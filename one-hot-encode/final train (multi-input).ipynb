{
 "cells": [
  {
   "cell_type": "code",
   "execution_count": 211,
   "metadata": {},
   "outputs": [
    {
     "data": {
      "text/html": [
       "<div>\n",
       "<style scoped>\n",
       "    .dataframe tbody tr th:only-of-type {\n",
       "        vertical-align: middle;\n",
       "    }\n",
       "\n",
       "    .dataframe tbody tr th {\n",
       "        vertical-align: top;\n",
       "    }\n",
       "\n",
       "    .dataframe thead th {\n",
       "        text-align: right;\n",
       "    }\n",
       "</style>\n",
       "<table border=\"1\" class=\"dataframe\">\n",
       "  <thead>\n",
       "    <tr style=\"text-align: right;\">\n",
       "      <th></th>\n",
       "      <th>id</th>\n",
       "      <th>keyword</th>\n",
       "      <th>location</th>\n",
       "      <th>text</th>\n",
       "      <th>target</th>\n",
       "    </tr>\n",
       "  </thead>\n",
       "  <tbody>\n",
       "    <tr>\n",
       "      <th>0</th>\n",
       "      <td>1</td>\n",
       "      <td>NaN</td>\n",
       "      <td>NaN</td>\n",
       "      <td>Our Deeds are the Reason of this #earthquake M...</td>\n",
       "      <td>1</td>\n",
       "    </tr>\n",
       "    <tr>\n",
       "      <th>1</th>\n",
       "      <td>4</td>\n",
       "      <td>NaN</td>\n",
       "      <td>NaN</td>\n",
       "      <td>Forest fire near La Ronge Sask. Canada</td>\n",
       "      <td>1</td>\n",
       "    </tr>\n",
       "    <tr>\n",
       "      <th>2</th>\n",
       "      <td>5</td>\n",
       "      <td>NaN</td>\n",
       "      <td>NaN</td>\n",
       "      <td>All residents asked to 'shelter in place' are ...</td>\n",
       "      <td>1</td>\n",
       "    </tr>\n",
       "    <tr>\n",
       "      <th>3</th>\n",
       "      <td>6</td>\n",
       "      <td>NaN</td>\n",
       "      <td>NaN</td>\n",
       "      <td>13,000 people receive #wildfires evacuation or...</td>\n",
       "      <td>1</td>\n",
       "    </tr>\n",
       "    <tr>\n",
       "      <th>4</th>\n",
       "      <td>7</td>\n",
       "      <td>NaN</td>\n",
       "      <td>NaN</td>\n",
       "      <td>Just got sent this photo from Ruby #Alaska as ...</td>\n",
       "      <td>1</td>\n",
       "    </tr>\n",
       "  </tbody>\n",
       "</table>\n",
       "</div>"
      ],
      "text/plain": [
       "   id keyword location                                               text  \\\n",
       "0   1     NaN      NaN  Our Deeds are the Reason of this #earthquake M...   \n",
       "1   4     NaN      NaN             Forest fire near La Ronge Sask. Canada   \n",
       "2   5     NaN      NaN  All residents asked to 'shelter in place' are ...   \n",
       "3   6     NaN      NaN  13,000 people receive #wildfires evacuation or...   \n",
       "4   7     NaN      NaN  Just got sent this photo from Ruby #Alaska as ...   \n",
       "\n",
       "   target  \n",
       "0       1  \n",
       "1       1  \n",
       "2       1  \n",
       "3       1  \n",
       "4       1  "
      ]
     },
     "execution_count": 211,
     "metadata": {},
     "output_type": "execute_result"
    }
   ],
   "source": [
    "import pandas as pd\n",
    "import numpy as np\n",
    "import matplotlib.pyplot as plt \n",
    "import seaborn as sns \n",
    "from sklearn.utils import shuffle\n",
    "df = pd.read_csv(\"train.csv\")\n",
    "df.head()"
   ]
  },
  {
   "cell_type": "code",
   "execution_count": 212,
   "metadata": {},
   "outputs": [],
   "source": [
    "df.location = np.array([[\"\".join([y.strip() for y in str(x).split()])]for x in df.location]).reshape(1,-1)[0]\n",
    "df.keyword = df.keyword.astype(\"str\")"
   ]
  },
  {
   "cell_type": "code",
   "execution_count": 213,
   "metadata": {},
   "outputs": [
    {
     "name": "stderr",
     "output_type": "stream",
     "text": [
      "[nltk_data] Error loading stopwords: <urlopen error [SSL:\n",
      "[nltk_data]     CERTIFICATE_VERIFY_FAILED] certificate verify failed:\n",
      "[nltk_data]     unable to get local issuer certificate (_ssl.c:1123)>\n",
      "[nltk_data] Error loading punkt: <urlopen error [SSL:\n",
      "[nltk_data]     CERTIFICATE_VERIFY_FAILED] certificate verify failed:\n",
      "[nltk_data]     unable to get local issuer certificate (_ssl.c:1123)>\n",
      "[nltk_data] Error loading wordnet: <urlopen error [SSL:\n",
      "[nltk_data]     CERTIFICATE_VERIFY_FAILED] certificate verify failed:\n",
      "[nltk_data]     unable to get local issuer certificate (_ssl.c:1123)>\n"
     ]
    }
   ],
   "source": [
    "import nltk\n",
    "nltk.download('stopwords')\n",
    "nltk.download('punkt')\n",
    "nltk.download('wordnet')\n",
    "from nltk.stem import WordNetLemmatizer \n",
    "from nltk.tokenize import sent_tokenize, word_tokenize\n",
    "from nltk.corpus import wordnet\n",
    "from nltk.tokenize import sent_tokenize, word_tokenize\n",
    "from nltk.corpus import stopwords\n",
    "lemmatizer = WordNetLemmatizer() \n",
    "stopwords = stopwords.words('english')"
   ]
  },
  {
   "cell_type": "code",
   "execution_count": 173,
   "metadata": {},
   "outputs": [
    {
     "ename": "ModuleNotFoundError",
     "evalue": "No module named 'wordcloud'",
     "output_type": "error",
     "traceback": [
      "\u001b[0;31m---------------------------------------------------------------------------\u001b[0m",
      "\u001b[0;31mModuleNotFoundError\u001b[0m                       Traceback (most recent call last)",
      "\u001b[0;32m<ipython-input-173-262e2d13a82b>\u001b[0m in \u001b[0;36m<module>\u001b[0;34m\u001b[0m\n\u001b[0;32m----> 1\u001b[0;31m \u001b[0;32mfrom\u001b[0m \u001b[0mwordcloud\u001b[0m \u001b[0;32mimport\u001b[0m \u001b[0mWordCloud\u001b[0m\u001b[0;34m,\u001b[0m \u001b[0mSTOPWORDS\u001b[0m\u001b[0;34m\u001b[0m\u001b[0;34m\u001b[0m\u001b[0m\n\u001b[0m\u001b[1;32m      2\u001b[0m \u001b[0;31m#Wordcloud REAL\u001b[0m\u001b[0;34m\u001b[0m\u001b[0;34m\u001b[0m\u001b[0;34m\u001b[0m\u001b[0m\n\u001b[1;32m      3\u001b[0m wordcloud = WordCloud(width = 800, height = 800,\n\u001b[1;32m      4\u001b[0m                 \u001b[0mbackground_color\u001b[0m \u001b[0;34m=\u001b[0m\u001b[0;34m'white'\u001b[0m\u001b[0;34m,\u001b[0m\u001b[0;34m\u001b[0m\u001b[0;34m\u001b[0m\u001b[0m\n\u001b[1;32m      5\u001b[0m                 \u001b[0mstopwords\u001b[0m \u001b[0;34m=\u001b[0m \u001b[0mstopwords\u001b[0m\u001b[0;34m,\u001b[0m\u001b[0;34m\u001b[0m\u001b[0;34m\u001b[0m\u001b[0m\n",
      "\u001b[0;31mModuleNotFoundError\u001b[0m: No module named 'wordcloud'"
     ]
    }
   ],
   "source": [
    "from wordcloud import WordCloud, STOPWORDS\n",
    "#Wordcloud REAL\n",
    "wordcloud = WordCloud(width = 800, height = 800,\n",
    "                background_color ='white',\n",
    "                stopwords = stopwords,\n",
    "                min_font_size = 10).generate(\"\".join([x.lower() for x in df.text[df.target==1]]))\n",
    "\n",
    "# plot the WordCloud image\n",
    "plt.figure(figsize = (8, 8), facecolor = None)\n",
    "plt.imshow(wordcloud)\n",
    "plt.axis(\"off\")\n",
    "plt.tight_layout(pad = 0)"
   ]
  },
  {
   "cell_type": "code",
   "execution_count": 174,
   "metadata": {},
   "outputs": [
    {
     "ename": "NameError",
     "evalue": "name 'WordCloud' is not defined",
     "output_type": "error",
     "traceback": [
      "\u001b[0;31m---------------------------------------------------------------------------\u001b[0m",
      "\u001b[0;31mNameError\u001b[0m                                 Traceback (most recent call last)",
      "\u001b[0;32m<ipython-input-174-8085cea9bdc3>\u001b[0m in \u001b[0;36m<module>\u001b[0;34m\u001b[0m\n\u001b[1;32m      1\u001b[0m \u001b[0;31m#WORDCLOUD FAKE\u001b[0m\u001b[0;34m\u001b[0m\u001b[0;34m\u001b[0m\u001b[0;34m\u001b[0m\u001b[0m\n\u001b[0;32m----> 2\u001b[0;31m wordcloud = WordCloud(width = 800, height = 800,\n\u001b[0m\u001b[1;32m      3\u001b[0m                 \u001b[0mbackground_color\u001b[0m \u001b[0;34m=\u001b[0m\u001b[0;34m'white'\u001b[0m\u001b[0;34m,\u001b[0m\u001b[0;34m\u001b[0m\u001b[0;34m\u001b[0m\u001b[0m\n\u001b[1;32m      4\u001b[0m                 \u001b[0mstopwords\u001b[0m \u001b[0;34m=\u001b[0m \u001b[0mstopwords\u001b[0m\u001b[0;34m,\u001b[0m\u001b[0;34m\u001b[0m\u001b[0;34m\u001b[0m\u001b[0m\n\u001b[1;32m      5\u001b[0m                 min_font_size = 10).generate(\"\".join([x.lower() for x in df.text[df.target==0]]))\n",
      "\u001b[0;31mNameError\u001b[0m: name 'WordCloud' is not defined"
     ]
    }
   ],
   "source": [
    "#WORDCLOUD FAKE\n",
    "wordcloud = WordCloud(width = 800, height = 800,\n",
    "                background_color ='white',\n",
    "                stopwords = stopwords,\n",
    "                min_font_size = 10).generate(\"\".join([x.lower() for x in df.text[df.target==0]]))\n",
    "\n",
    "# plot the WordCloud image\n",
    "plt.figure(figsize = (8, 8), facecolor = None)\n",
    "plt.imshow(wordcloud)\n",
    "plt.axis(\"off\")\n",
    "plt.tight_layout(pad = 0)"
   ]
  },
  {
   "cell_type": "code",
   "execution_count": 214,
   "metadata": {},
   "outputs": [],
   "source": [
    "\n",
    "def pos_lemmatize(sentence):\n",
    "    values = [x.lower() for x in word_tokenize(sentence)]\n",
    "    pos = nltk.pos_tag(values)\n",
    "    dict_pos = {\"J\": wordnet.ADJ,\n",
    "                \"NN\": wordnet.NOUN,\n",
    "                \"VBD\": wordnet.VERB,\n",
    "                \"VBZ\": wordnet.VERB,\n",
    "                \"VBG\": wordnet.VERB,\n",
    "                \"VBN\": wordnet.VERB,\n",
    "                \"RB\": wordnet.ADV}\n",
    "    values = [lemmatizer.lemmatize(values[x],pos=dict_pos.get(pos[x][1], wordnet.NOUN)) for x in range(len(values))] \n",
    "    values = [value for value in values if value not in stopwords] # and len(value) > 1\n",
    "    return \" \".join(values)\n",
    "df[\"n-text\"] = df.text.apply(pos_lemmatize) #get lemmatized words for each word in sentence - lemmatized: walked --> walk\n"
   ]
  },
  {
   "cell_type": "code",
   "execution_count": 215,
   "metadata": {},
   "outputs": [
    {
     "data": {
      "text/plain": [
       "0            deed reason # earthquake may allah forgive u\n",
       "1                 forest fire near la ronge sask . canada\n",
       "2       resident ask 'shelter place ' notify officer ....\n",
       "3       13,000 people receive # wildfire evacuation or...\n",
       "4       get send photo ruby # alaska smoke # wildfire ...\n",
       "                              ...                        \n",
       "7608    two giant crane hold bridge collapse nearby ho...\n",
       "7609    @ aria_ahrary @ thetawniest control wild fire ...\n",
       "7610    m1.94 [ 01:04 utc ] ? 5km volcano hawaii . htt...\n",
       "7611    police investigate e-bike collided car little ...\n",
       "7612    latest : home raze northern california wildfir...\n",
       "Name: n-text, Length: 7613, dtype: object"
      ]
     },
     "execution_count": 215,
     "metadata": {},
     "output_type": "execute_result"
    }
   ],
   "source": [
    "df[\"n-text\"]"
   ]
  },
  {
   "cell_type": "code",
   "execution_count": 216,
   "metadata": {},
   "outputs": [],
   "source": [
    "from tensorflow.keras.preprocessing.text import one_hot\n",
    "vocab_size = 1000\n",
    "df[\"encoded\"] = [one_hot(sentence, vocab_size) for sentence in df[\"n-text\"]]"
   ]
  },
  {
   "cell_type": "code",
   "execution_count": 217,
   "metadata": {},
   "outputs": [
    {
     "data": {
      "text/plain": [
       "0                      [845, 674, 640, 362, 590, 40, 901]\n",
       "1                     [988, 350, 754, 224, 405, 215, 480]\n",
       "2       [138, 936, 579, 409, 449, 57, 828, 744, 409, 4...\n",
       "3                 [994, 998, 713, 793, 23, 744, 408, 341]\n",
       "4            [744, 515, 186, 838, 809, 123, 23, 307, 904]\n",
       "                              ...                        \n",
       "7608    [4, 281, 589, 96, 152, 182, 50, 773, 341, 743,...\n",
       "7609    [151, 814, 451, 371, 219, 350, 341, 356, 447, ...\n",
       "7610    [357, 52, 604, 709, 749, 140, 671, 785, 341, 7...\n",
       "7611    [700, 641, 590, 172, 267, 136, 536, 47, 590, 1...\n",
       "7612    [425, 773, 292, 447, 341, 23, 792, 395, 341, 7...\n",
       "Name: encoded, Length: 7613, dtype: object"
      ]
     },
     "execution_count": 217,
     "metadata": {},
     "output_type": "execute_result"
    }
   ],
   "source": [
    "df.encoded"
   ]
  },
  {
   "cell_type": "code",
   "execution_count": 179,
   "metadata": {},
   "outputs": [],
   "source": [
    "from tensorflow.keras.preprocessing.sequence import pad_sequences\n",
    "max_length = 20\n",
    "Xtext = pad_sequences(list(df.encoded), maxlen=max_length, padding='pre')"
   ]
  },
  {
   "cell_type": "code",
   "execution_count": 229,
   "metadata": {},
   "outputs": [],
   "source": [
    "kf = pd.concat([df.iloc[:,:-1],tf])\n",
    "tf = pd.read_csv(\"test.csv\")\n",
    "key1 = pd.DataFrame({\"loc\":kf.location.unique()}).reset_index()\n",
    "df = df.merge(key1, left_on=\"location\", right_on=\"loc\")\n",
    "key2 = pd.DataFrame({\"key\":kf.keyword.unique()}).reset_index()\n",
    "df = df.merge(key2, left_on=\"keyword\", right_on=\"key\")\n",
    "Xother = np.array(df[[\"index_x\",\"index_y\"]])\n",
    "y = np.array(df.target)\n",
    "#TREAT KEYWORD/LOCATION AS TEXT. \n",
    "#You can use keras with one hot or lael encoder for categorical and numerical data models though\n"
   ]
  },
  {
   "cell_type": "code",
   "execution_count": 168,
   "metadata": {},
   "outputs": [],
   "source": [
    "#df[\"Other\"] = df[\"location\"]+df[\"keyword\"]\n",
    "#df[\"n-encoded\"] = [one_hot(sentence, 5000) for sentence in df[\"Other\"]]\n",
    "#max_length = 2\n",
    "#Xother = pad_sequences(list(df[\"n-encoded\"]), maxlen=max_length, padding='pre')"
   ]
  },
  {
   "cell_type": "code",
   "execution_count": 220,
   "metadata": {},
   "outputs": [],
   "source": [
    "from sklearn.model_selection import train_test_split \n",
    "arr = np.concatenate((Xtext, Xother), axis=1)\n",
    "x_train, x_test, y_train, y_test = train_test_split(arr, y, test_size=0.20, random_state=42) #default shuffle = True but random state = 42 means always same random shuffle\n",
    "\n",
    "Xtext_train = x_train[:,:-2]\n",
    "Xother_train = x_train[:,-2:]\n",
    "Xtext_test = x_test[:,:-2]\n",
    "Xother_test = x_test[:,-2:]"
   ]
  },
  {
   "cell_type": "code",
   "execution_count": 221,
   "metadata": {},
   "outputs": [],
   "source": [
    "from tensorflow.keras.layers import Embedding,Dense,LSTM,Dropout,concatenate, Flatten\n",
    "from tensorflow.keras.models import Sequential\n",
    "from tensorflow.keras.models import Model\n",
    "def create_text(dim, regress=False):\n",
    "    embedding_vector_features = int(min(dim/2, 50))\n",
    "    model = Sequential()\n",
    "    model.add(Embedding(1000,40,input_length=20)) #model.add(Embedding(input_dim=dim, output_dim=50))\n",
    "    ## embedding layer used 40 features to make feature representation of the sentences\n",
    "    model.add(Dropout(0.3))\n",
    "    model.add(LSTM(100))\n",
    "    model.add(Dropout(0.5)) ## drop out layer to make the model more regularized\n",
    "    \n",
    "    return model\n",
    "\n",
    "def create_OtherData(dim, regress=False):\n",
    "    embedding_vector_features = int(min(dim/2, 50))\n",
    "    model = Sequential()\n",
    "    model.add(Embedding(5000,40,input_length=2)) ## embedding layer used 40 features to make feature representation of the sentences\n",
    "    model.add(Dropout(0.3))\n",
    "    model.add(Flatten())\n",
    "    model.add(Dropout(0.5)) ## drop out layer to make the model more regularized\n",
    "    \n",
    "    # return our model\n",
    "    return model"
   ]
  },
  {
   "cell_type": "code",
   "execution_count": 222,
   "metadata": {},
   "outputs": [],
   "source": [
    "text = create_text(Xtext.shape[1], regress=False)\n",
    "other = create_OtherData(Xother.shape[1], regress=False)\n",
    "# create the input to our final set of layers as the *output* of both\n",
    "# the MLP and CNN\n",
    "combinedInput = concatenate([text.output, other.output])\n",
    "# our final FC layer head will have two dense layers, the final one\n",
    "# being our regression head\n",
    "x = Dense(1, activation=\"sigmoid\")(combinedInput)\n",
    "# our final model will accept categorical/numerical data on the MLP\n",
    "# input and images on the CNN input, outputting a single value (the\n",
    "# predicted price of the house)\n",
    "model = Model(inputs=[text.input, other.input], outputs=x)\n",
    "model.compile(loss='binary_crossentropy',optimizer='adam',metrics=['accuracy'])"
   ]
  },
  {
   "cell_type": "code",
   "execution_count": 223,
   "metadata": {},
   "outputs": [
    {
     "name": "stdout",
     "output_type": "stream",
     "text": [
      "Epoch 1/2\n",
      "975/975 [==============================] - 10s 9ms/step - loss: 0.6740 - accuracy: 0.5878 - val_loss: 0.5715 - val_accuracy: 0.7479\n",
      "Epoch 2/2\n",
      "975/975 [==============================] - 8s 9ms/step - loss: 0.5341 - accuracy: 0.7424 - val_loss: 0.5299 - val_accuracy: 0.7323\n"
     ]
    }
   ],
   "source": [
    "history = model.fit([Xtext_train, Xother_train], y_train, validation_split=.2, epochs=2, batch_size=5, verbose=1)"
   ]
  },
  {
   "cell_type": "code",
   "execution_count": 116,
   "metadata": {},
   "outputs": [],
   "source": [
    "#history = model.fit([Xtext, Xother], y, validation_split=.2, epochs=5, batch_size=5, verbose=1)\n",
    "#history = model.fit([Xtext_train, Xother_train], y_train, validation_split=.2, epochs=5, batch_size=5, verbose=1)\n",
    "#Does best when you use to both but I guess because the test and train data is in the first one"
   ]
  },
  {
   "cell_type": "code",
   "execution_count": 224,
   "metadata": {},
   "outputs": [
    {
     "name": "stdout",
     "output_type": "stream",
     "text": [
      "Accuracy: 73.407745\n"
     ]
    }
   ],
   "source": [
    "loss, accuracy = model.evaluate([Xtext_test,Xother_test],y_test, verbose=0)\n",
    "print('Accuracy: %f' % (accuracy*100))"
   ]
  },
  {
   "cell_type": "code",
   "execution_count": 225,
   "metadata": {},
   "outputs": [
    {
     "name": "stderr",
     "output_type": "stream",
     "text": [
      "/Library/Frameworks/Python.framework/Versions/3.8/lib/python3.8/site-packages/tensorflow/python/keras/engine/training.py:2289: UserWarning: `Model.state_updates` will be removed in a future version. This property should not be used in TensorFlow 2.0, as `updates` are applied automatically.\n",
      "  warnings.warn('`Model.state_updates` will be removed in a future version. '\n",
      "/Library/Frameworks/Python.framework/Versions/3.8/lib/python3.8/site-packages/tensorflow/python/keras/engine/base_layer.py:1376: UserWarning: `layer.updates` will be removed in a future version. This property should not be used in TensorFlow 2.0, as `updates` are applied automatically.\n",
      "  warnings.warn('`layer.updates` will be removed in a future version. '\n"
     ]
    },
    {
     "name": "stdout",
     "output_type": "stream",
     "text": [
      "INFO:tensorflow:Assets written to: final2/assets\n"
     ]
    }
   ],
   "source": [
    "model.save(\"final2\")"
   ]
  },
  {
   "cell_type": "code",
   "execution_count": 226,
   "metadata": {},
   "outputs": [
    {
     "data": {
      "image/png": "[encoded data removed]",
      "text/plain": [
       "<Figure size 432x288 with 1 Axes>"
      ]
     },
     "metadata": {
      "needs_background": "light"
     },
     "output_type": "display_data"
    },
    {
     "data": {
      "image/png": "[encoded data removed]",
      "text/plain": [
       "<Figure size 432x288 with 1 Axes>"
      ]
     },
     "metadata": {
      "needs_background": "light"
     },
     "output_type": "display_data"
    }
   ],
   "source": [
    "plt.plot(history.history['accuracy'])\n",
    "plt.plot(history.history['val_accuracy'])\n",
    "plt.title('model accuracy')\n",
    "plt.ylabel('accuracy')\n",
    "plt.xlabel('epoch')\n",
    "plt.legend(['train', 'test'], loc='upper left')\n",
    "plt.show()\n",
    "# summarize history for loss\n",
    "plt.plot(history.history['loss'])\n",
    "plt.plot(history.history['val_loss'])\n",
    "plt.title('model loss')\n",
    "plt.ylabel('loss')\n",
    "plt.xlabel('epoch')\n",
    "plt.legend(['train', 'test'], loc='upper left')\n",
    "plt.show()"
   ]
  },
  {
   "cell_type": "code",
   "execution_count": 230,
   "metadata": {},
   "outputs": [],
   "source": [
    "def prepareData(df):\n",
    "    df[\"n-text\"] = df.text.apply(pos_lemmatize)\n",
    "    vocab_size = 1000\n",
    "    df[\"encoded\"] = [one_hot(sentence, vocab_size) for sentence in df[\"n-text\"]]\n",
    "    max_length = 20\n",
    "    text = pad_sequences(list(df.encoded), maxlen=max_length, padding='pre')\n",
    "    df = df.merge(key1, left_on=\"location\", right_on=\"loc\")\n",
    "    df = df.merge(key2, left_on=\"keyword\", right_on=\"key\")\n",
    "    other = np.array(df[[\"index_x\",\"index_y\"]])\n",
    "    return text, other\n",
    "tf = pd.read_csv(\"test.csv\")\n",
    "text, other = prepareData(tf)"
   ]
  },
  {
   "cell_type": "code",
   "execution_count": 248,
   "metadata": {},
   "outputs": [],
   "source": [
    "submission = pd.DataFrame({\"id\":tf.id,\"target\":[int(round(x,0)) for x in model.predict([text,other]).reshape(1,-1)[0]]})\n",
    "submission.to_csv(\"submission.csv\", index=False)"
   ]
  },
  {
   "cell_type": "code",
   "execution_count": 298,
   "metadata": {},
   "outputs": [
    {
     "name": "stdout",
     "output_type": "stream",
     "text": [
      "INFO:tensorflow:Assets written to: model/assets\n"
     ]
    }
   ],
   "source": [
    "model.save(\"model\")"
   ]
  },
  {
   "cell_type": "code",
   "execution_count": null,
   "metadata": {},
   "outputs": [],
   "source": [
    "# Building Pipeline for raw text transformation: INTERESTING\n",
    "clf = Pipeline([\n",
    "    ('vect', TfidfVectorizer(stop_words= \"english\")),\n",
    "    ('classifier', LogisticRegression()),\n",
    "    ])"
   ]
  }
 ],
 "metadata": {
  "kernelspec": {
   "display_name": "Python 3",
   "language": "python",
   "name": "python3"
  },
  "language_info": {
   "codemirror_mode": {
    "name": "ipython",
    "version": 3
   },
   "file_extension": ".py",
   "mimetype": "text/x-python",
   "name": "python",
   "nbconvert_exporter": "python",
   "pygments_lexer": "ipython3",
   "version": "3.8.4"
  }
 },
 "nbformat": 4,
 "nbformat_minor": 4
}
